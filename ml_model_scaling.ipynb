{
 "cells": [
  {
   "cell_type": "markdown",
   "metadata": {},
   "source": [
    "# Amazon Reviews - Prediction of Rating and Helpfulness (an NLP Use Case)\n",
    "##  Machine Learning Scaling"
   ]
  },
  {
   "cell_type": "markdown",
   "metadata": {},
   "source": [
    "In this notebook, I have scaled the machine learning model to predict rating and helpfulness of Amazon reviews that I prototyped in the notebook `ml_model_prototyping.ipynb`."
   ]
  },
  {
   "cell_type": "markdown",
   "metadata": {},
   "source": [
    "## Table of Contents\n",
    "\n",
    "* [Text Preprocessing](#tp)\n",
    "* [Doc2Vec](#dv)\n",
    "* [ML Scaling: Rating Prediction](#rp)\n",
    "  * [Dealing with Class Imbalance](#ci)\n",
    "  * [Logistic Regression](#ilr)\n",
    "* [ML Prototyping: Helpfulness Prediction](#hp)\n",
    "  * [Linear Regression](#lrg)\n",
    "* [Making Predictions on New Data](#nd)\n",
    "* [Conclusion](#cl)"
   ]
  },
  {
   "cell_type": "code",
   "execution_count": 4,
   "metadata": {},
   "outputs": [
    {
     "data": {
      "text/html": [
       "<style scoped>\n",
       "  .ansiout {\n",
       "    display: block;\n",
       "    unicode-bidi: embed;\n",
       "    white-space: pre-wrap;\n",
       "    word-wrap: break-word;\n",
       "    word-break: break-all;\n",
       "    font-family: \"Source Code Pro\", \"Menlo\", monospace;;\n",
       "    font-size: 13px;\n",
       "    color: #555;\n",
       "    margin-left: 4px;\n",
       "    line-height: 19px;\n",
       "  }\n",
       "</style>\n",
       "<div class=\"ansiout\"></div>"
      ]
     },
     "metadata": {},
     "output_type": "display_data"
    }
   ],
   "source": [
    "# Time the notebook\n",
    "import time\n",
    "start_time = time.time()"
   ]
  },
  {
   "cell_type": "code",
   "execution_count": 5,
   "metadata": {},
   "outputs": [
    {
     "data": {
      "text/html": [
       "<style scoped>\n",
       "  .ansiout {\n",
       "    display: block;\n",
       "    unicode-bidi: embed;\n",
       "    white-space: pre-wrap;\n",
       "    word-wrap: break-word;\n",
       "    word-break: break-all;\n",
       "    font-family: \"Source Code Pro\", \"Menlo\", monospace;;\n",
       "    font-size: 13px;\n",
       "    color: #555;\n",
       "    margin-left: 4px;\n",
       "    line-height: 19px;\n",
       "  }\n",
       "</style>\n",
       "<div class=\"ansiout\"></div>"
      ]
     },
     "metadata": {},
     "output_type": "display_data"
    }
   ],
   "source": [
    "# Define the schema of the dataframe to be created\n",
    "from pyspark.sql.types import StructType, StructField\n",
    "from pyspark.sql.types import DoubleType, IntegerType, StringType, DateType\n",
    "\n",
    "schema = StructType([\n",
    "      StructField('marketplace', StringType()),\n",
    "      StructField('customer_id', StringType()),\n",
    "      StructField('review_id', StringType()),\n",
    "      StructField('product_id', StringType()),\n",
    "      StructField('product_parent', StringType()),\n",
    "      StructField('product_title', StringType()),\n",
    "      StructField('product_category', StringType()),\n",
    "      StructField('star_rating', IntegerType()),\n",
    "      StructField('helpful_votes', IntegerType()),\n",
    "      StructField('total_votes', IntegerType()),\n",
    "      StructField('vine', StringType()),\n",
    "      StructField('verified_purchase', StringType()),\n",
    "      StructField('review_headline', StringType()),\n",
    "      StructField('review_body', StringType()),\n",
    "      StructField('review_date', DateType())\n",
    "])\n",
    "\n",
    "# Read Amazon review files from Amazon S3\n",
    "review_df = (sqlContext.read.format('com.databricks.spark.csv')\n",
    "             .schema(schema)\n",
    "             .option(\"inferSchema\", False)\n",
    "             .option('delimiter', '\\t')\n",
    "             .option(\"header\", True)\n",
    "             .load(\"/mnt/mount_1/tsv/amazon_reviews_us*.gz\" ))"
   ]
  },
  {
   "cell_type": "code",
   "execution_count": 6,
   "metadata": {},
   "outputs": [
    {
     "data": {
      "text/html": [
       "<style scoped>\n",
       "  .ansiout {\n",
       "    display: block;\n",
       "    unicode-bidi: embed;\n",
       "    white-space: pre-wrap;\n",
       "    word-wrap: break-word;\n",
       "    word-break: break-all;\n",
       "    font-family: \"Source Code Pro\", \"Menlo\", monospace;;\n",
       "    font-size: 13px;\n",
       "    color: #555;\n",
       "    margin-left: 4px;\n",
       "    line-height: 19px;\n",
       "  }\n",
       "</style>\n",
       "<div class=\"ansiout\"></div>"
      ]
     },
     "metadata": {},
     "output_type": "display_data"
    }
   ],
   "source": [
    "review_df = (review_df.filter(\"verified_purchase = 'Y'\").filter(\"star_rating is not NULL\")\n",
    "                      .filter(\"review_date is not NULL\").filter(\"helpful_votes is not NULL\")\n",
    "                      .filter(\"total_votes is not NULL\").filter(\"review_headline is not NULL\")\n",
    "                      .filter(\"review_body is not NULL\").filter(\"review_id is not NULL\"))"
   ]
  },
  {
   "cell_type": "code",
   "execution_count": 7,
   "metadata": {},
   "outputs": [
    {
     "data": {
      "text/html": [
       "<style scoped>\n",
       "  .ansiout {\n",
       "    display: block;\n",
       "    unicode-bidi: embed;\n",
       "    white-space: pre-wrap;\n",
       "    word-wrap: break-word;\n",
       "    word-break: break-all;\n",
       "    font-family: \"Source Code Pro\", \"Menlo\", monospace;;\n",
       "    font-size: 13px;\n",
       "    color: #555;\n",
       "    margin-left: 4px;\n",
       "    line-height: 19px;\n",
       "  }\n",
       "</style>\n",
       "<div class=\"ansiout\"><span class=\"ansired\">Out[</span><span class=\"ansired\">4</span><span class=\"ansired\">]: </span>DataFrame[marketplace: string, customer_id: string, review_id: string, product_id: string, product_parent: string, product_title: string, product_category: string, star_rating: int, helpful_votes: int, total_votes: int, vine: string, verified_purchase: string, review_headline: string, review_body: string, review_date: date]</div>"
      ]
     },
     "metadata": {},
     "output_type": "display_data"
    }
   ],
   "source": [
    "# sample_frac = 0.075\n",
    "# review_df = review_df.sample(False, sample_frac, 42)\n",
    "review_df.cache()"
   ]
  },
  {
   "cell_type": "markdown",
   "metadata": {},
   "source": [
    "<a id='tp'></a>\n",
    "## Text Preprocessing"
   ]
  },
  {
   "cell_type": "code",
   "execution_count": 9,
   "metadata": {},
   "outputs": [
    {
     "data": {
      "text/html": [
       "<style scoped>\n",
       "  .ansiout {\n",
       "    display: block;\n",
       "    unicode-bidi: embed;\n",
       "    white-space: pre-wrap;\n",
       "    word-wrap: break-word;\n",
       "    word-break: break-all;\n",
       "    font-family: \"Source Code Pro\", \"Menlo\", monospace;;\n",
       "    font-size: 13px;\n",
       "    color: #555;\n",
       "    margin-left: 4px;\n",
       "    line-height: 19px;\n",
       "  }\n",
       "</style>\n",
       "<div class=\"ansiout\"></div>"
      ]
     },
     "metadata": {},
     "output_type": "display_data"
    }
   ],
   "source": [
    "# Subset required columns\n",
    "review_rating_vote_df = review_df.select('review_body', 'star_rating', 'helpful_votes', 'total_votes')"
   ]
  },
  {
   "cell_type": "markdown",
   "metadata": {},
   "source": [
    "The following cleaning is performed on review text.\n",
    "- lower casing of the text\n",
    "- Stripping html tags\n",
    "- stripiing punctuation\n",
    "- stripping multiple white spaces\n",
    "- stripping numbers"
   ]
  },
  {
   "cell_type": "code",
   "execution_count": 11,
   "metadata": {},
   "outputs": [
    {
     "data": {
      "text/html": [
       "<style scoped>\n",
       "  .ansiout {\n",
       "    display: block;\n",
       "    unicode-bidi: embed;\n",
       "    white-space: pre-wrap;\n",
       "    word-wrap: break-word;\n",
       "    word-break: break-all;\n",
       "    font-family: \"Source Code Pro\", \"Menlo\", monospace;;\n",
       "    font-size: 13px;\n",
       "    color: #555;\n",
       "    margin-left: 4px;\n",
       "    line-height: 19px;\n",
       "  }\n",
       "</style>\n",
       "<div class=\"ansiout\"></div>"
      ]
     },
     "metadata": {},
     "output_type": "display_data"
    }
   ],
   "source": [
    "import gensim.parsing.preprocessing as gsp\n",
    "from pyspark.sql.functions import udf\n",
    "from gensim import utils\n",
    "import re\n",
    "\n",
    "# Perform following cleaning tasks on each review\n",
    "cleaning_tasks = [\n",
    "           gsp.strip_tags, \n",
    "           gsp.strip_punctuation,\n",
    "           gsp.strip_multiple_whitespaces,\n",
    "           gsp.strip_numeric\n",
    "          ]\n",
    "\n",
    "def text_preprocessing(df_row):\n",
    "  '''Takes in a text and preprocess/clean it for NLP'''\n",
    "  review_txt = df_row[0]\n",
    "  review_txt = review_txt.lower()\n",
    "  review_txt = utils.to_unicode(review_txt)\n",
    "  for task in cleaning_tasks:\n",
    "      review_txt = task(review_txt)\n",
    "  review_txt = re.sub(r'[^a-zA-Z\\s]', \"\", review_txt)\n",
    "  return (review_txt, df_row[1], df_row[2], df_row[3])"
   ]
  },
  {
   "cell_type": "code",
   "execution_count": 12,
   "metadata": {},
   "outputs": [
    {
     "data": {
      "text/html": [
       "<style scoped>\n",
       "  .ansiout {\n",
       "    display: block;\n",
       "    unicode-bidi: embed;\n",
       "    white-space: pre-wrap;\n",
       "    word-wrap: break-word;\n",
       "    word-break: break-all;\n",
       "    font-family: \"Source Code Pro\", \"Menlo\", monospace;;\n",
       "    font-size: 13px;\n",
       "    color: #555;\n",
       "    margin-left: 4px;\n",
       "    line-height: 19px;\n",
       "  }\n",
       "</style>\n",
       "<div class=\"ansiout\"></div>"
      ]
     },
     "metadata": {},
     "output_type": "display_data"
    }
   ],
   "source": [
    "clean_review_rating_vote_df = review_rating_vote_df.rdd.map(lambda x : text_preprocessing(x)).toDF()"
   ]
  },
  {
   "cell_type": "code",
   "execution_count": 13,
   "metadata": {},
   "outputs": [
    {
     "data": {
      "text/html": [
       "<style scoped>\n",
       "  .ansiout {\n",
       "    display: block;\n",
       "    unicode-bidi: embed;\n",
       "    white-space: pre-wrap;\n",
       "    word-wrap: break-word;\n",
       "    word-break: break-all;\n",
       "    font-family: \"Source Code Pro\", \"Menlo\", monospace;;\n",
       "    font-size: 13px;\n",
       "    color: #555;\n",
       "    margin-left: 4px;\n",
       "    line-height: 19px;\n",
       "  }\n",
       "</style>\n",
       "<div class=\"ansiout\"></div>"
      ]
     },
     "metadata": {},
     "output_type": "display_data"
    }
   ],
   "source": [
    "# Rename the columns as _1, _2, _3 and _4 are not descriptive\n",
    "clean_review_rating_vote_df = (clean_review_rating_vote_df.withColumnRenamed(\"_1\", \"review_body\")\n",
    "                                  .withColumnRenamed(\"_2\", \"star_rating\")\n",
    "                                  .withColumnRenamed(\"_3\", \"helpful_votes\")\n",
    "                                  .withColumnRenamed(\"_4\", \"total_votes\"))"
   ]
  },
  {
   "cell_type": "markdown",
   "metadata": {},
   "source": [
    "#### Positive, Negative and Neutral Class Based on Star Rating\n",
    "A model that predicts whether a review is positive, negative or neutral will be trained. Star rating of 5 and 4 will be considered as positive, 3 as neutral and 1 and 2 as negative."
   ]
  },
  {
   "cell_type": "code",
   "execution_count": 15,
   "metadata": {},
   "outputs": [
    {
     "data": {
      "text/html": [
       "<style scoped>\n",
       "  .ansiout {\n",
       "    display: block;\n",
       "    unicode-bidi: embed;\n",
       "    white-space: pre-wrap;\n",
       "    word-wrap: break-word;\n",
       "    word-break: break-all;\n",
       "    font-family: \"Source Code Pro\", \"Menlo\", monospace;;\n",
       "    font-size: 13px;\n",
       "    color: #555;\n",
       "    margin-left: 4px;\n",
       "    line-height: 19px;\n",
       "  }\n",
       "</style>\n",
       "<div class=\"ansiout\"></div>"
      ]
     },
     "metadata": {},
     "output_type": "display_data"
    }
   ],
   "source": [
    "from pyspark.sql.functions import when\n",
    "clean_review_rating_vote_df = (clean_review_rating_vote_df.withColumn(\"review_category\", \n",
    "                                                when(clean_review_rating_vote_df.star_rating.isin(5, 4), 'positive')\n",
    "                                                .when(clean_review_rating_vote_df.star_rating.isin(1, 2), 'negative')\n",
    "                                                .otherwise('neutral')))"
   ]
  },
  {
   "cell_type": "markdown",
   "metadata": {},
   "source": [
    "<a id='dv'></a>\n",
    "## Doc2Vec\n",
    "Apache Spark does not provide an API for ‘Doc2Vec’. But its ‘Word2Vec’ transformer based on the ‘Skip-Gram’ approach, can be used as Doc2Vec. `The Word2VecModel transforms each document into a vector using the average of all words in the document` ([Apache Spark Documentation](https://spark.apache.org/docs/latest/ml-features.html#word2vec))"
   ]
  },
  {
   "cell_type": "code",
   "execution_count": 17,
   "metadata": {},
   "outputs": [
    {
     "data": {
      "text/html": [
       "<style scoped>\n",
       "  .ansiout {\n",
       "    display: block;\n",
       "    unicode-bidi: embed;\n",
       "    white-space: pre-wrap;\n",
       "    word-wrap: break-word;\n",
       "    word-break: break-all;\n",
       "    font-family: \"Source Code Pro\", \"Menlo\", monospace;;\n",
       "    font-size: 13px;\n",
       "    color: #555;\n",
       "    margin-left: 4px;\n",
       "    line-height: 19px;\n",
       "  }\n",
       "</style>\n",
       "<div class=\"ansiout\"></div>"
      ]
     },
     "metadata": {},
     "output_type": "display_data"
    }
   ],
   "source": [
    "from pyspark.ml.feature import Word2Vec\n",
    "from pyspark.ml import Pipeline\n",
    "from pyspark.ml.feature import Tokenizer\n",
    "\n",
    "# Tokenize review text\n",
    "tokenizer = Tokenizer(inputCol=\"review_body\", outputCol=\"tokens\")\n",
    "# Extract doc2vec size of 300\n",
    "word2vec = Word2Vec(vectorSize=300, minCount=0, inputCol=\"tokens\", outputCol=\"features\")\n",
    "doc2vec_pipeline = Pipeline(stages=[tokenizer, word2vec])\n",
    "doc2vec_model = doc2vec_pipeline.fit(clean_review_rating_vote_df)\n",
    "doc2vec_df = doc2vec_model.transform(clean_review_rating_vote_df)"
   ]
  },
  {
   "cell_type": "markdown",
   "metadata": {},
   "source": [
    "<a id='rp'></a>\n",
    "## ML Scaling: Rating Prediction"
   ]
  },
  {
   "cell_type": "code",
   "execution_count": 19,
   "metadata": {},
   "outputs": [
    {
     "data": {
      "text/html": [
       "<style scoped>\n",
       "  .ansiout {\n",
       "    display: block;\n",
       "    unicode-bidi: embed;\n",
       "    white-space: pre-wrap;\n",
       "    word-wrap: break-word;\n",
       "    word-break: break-all;\n",
       "    font-family: \"Source Code Pro\", \"Menlo\", monospace;;\n",
       "    font-size: 13px;\n",
       "    color: #555;\n",
       "    margin-left: 4px;\n",
       "    line-height: 19px;\n",
       "  }\n",
       "</style>\n",
       "<div class=\"ansiout\"></div>"
      ]
     },
     "metadata": {},
     "output_type": "display_data"
    }
   ],
   "source": [
    "from pyspark.ml.feature import StringIndexer\n",
    "\n",
    "# Encode the target label\n",
    "string_indexer = StringIndexer(inputCol=\"review_category\", outputCol=\"label\")\n",
    "doc2vec_df_encoded = string_indexer.fit(doc2vec_df).transform(doc2vec_df)"
   ]
  },
  {
   "cell_type": "code",
   "execution_count": 20,
   "metadata": {},
   "outputs": [
    {
     "data": {
      "text/html": [
       "<style scoped>\n",
       "  .ansiout {\n",
       "    display: block;\n",
       "    unicode-bidi: embed;\n",
       "    white-space: pre-wrap;\n",
       "    word-wrap: break-word;\n",
       "    word-break: break-all;\n",
       "    font-family: \"Source Code Pro\", \"Menlo\", monospace;;\n",
       "    font-size: 13px;\n",
       "    color: #555;\n",
       "    margin-left: 4px;\n",
       "    line-height: 19px;\n",
       "  }\n",
       "</style>\n",
       "<div class=\"ansiout\"></div>"
      ]
     },
     "metadata": {},
     "output_type": "display_data"
    }
   ],
   "source": [
    "# Split the data into train and test set\n",
    "train_set, test_set = doc2vec_df_encoded.randomSplit([0.7, 0.3], seed=100)"
   ]
  },
  {
   "cell_type": "code",
   "execution_count": 21,
   "metadata": {},
   "outputs": [
    {
     "data": {
      "text/html": [
       "<style scoped>\n",
       "  .ansiout {\n",
       "    display: block;\n",
       "    unicode-bidi: embed;\n",
       "    white-space: pre-wrap;\n",
       "    word-wrap: break-word;\n",
       "    word-break: break-all;\n",
       "    font-family: \"Source Code Pro\", \"Menlo\", monospace;;\n",
       "    font-size: 13px;\n",
       "    color: #555;\n",
       "    margin-left: 4px;\n",
       "    line-height: 19px;\n",
       "  }\n",
       "</style>\n",
       "<div class=\"ansiout\"></div>"
      ]
     },
     "metadata": {},
     "output_type": "display_data"
    }
   ],
   "source": [
    "from pyspark.ml.evaluation import MulticlassClassificationEvaluator\n",
    "from pyspark.mllib.evaluation import MulticlassMetrics\n",
    "import pandas as pd\n",
    "\n",
    "# A function to get performance metrics\n",
    "def print_performance_metrics(predictions):\n",
    "  # Get accuracy of the model\n",
    "  model_evaluator = MulticlassClassificationEvaluator(\n",
    "      labelCol=\"label\", predictionCol=\"prediction\", metricName=\"accuracy\")\n",
    "  accuracy = model_evaluator.evaluate(predictions)\n",
    "  print(\"Accuracy: {:.3f}\\n\".format(accuracy))\n",
    "\n",
    "  # get rdd of predictions and labels for eval metrics\n",
    "  predictionAndLabels = predictions.select(\"prediction\",\"label\").rdd\n",
    "\n",
    "  # Instantiate metrics objects\n",
    "  multi_metrics = MulticlassMetrics(predictionAndLabels)\n",
    "  # Get confusion matrix\n",
    "  cm = multi_metrics.confusionMatrix()\n",
    "  print (\"Confusion Metrix:\")\n",
    "  print(cm)\n",
    "  print (\"\\nConfusion Metrix as a Pandas Dataframe:\")\n",
    "  print(pd.DataFrame(cm.toArray().tolist(), columns=['predicted_pos', 'predicted_neg', 'predicted_neu'], index=['actual_pos', 'actual_neg', 'actual_neu']))\n",
    "  print(\"\\nFraction of positive reviews correctly predicted as positive (recall): {:.3f}\".format(cm[0,0]/(cm[0,0] + cm[0,1] + cm[0,2])))\n",
    "  print(\"\\nFraction of negative reviews correctly predicted as negative (recall): {:.3f}\".format(cm[1,1]/(cm[1,0] + cm[1,1] + cm[1,2])))\n",
    "  print(\"\\nFraction of neutral reviews correctly predicted as neutral (recall): {:.3f}\".format(cm[2,2]/(cm[2,0] + cm[2,1] + cm[2,2])))"
   ]
  },
  {
   "cell_type": "markdown",
   "metadata": {},
   "source": [
    "<a id='ci'></a>\n",
    "### Dealing with Class Imbalance"
   ]
  },
  {
   "cell_type": "code",
   "execution_count": 23,
   "metadata": {},
   "outputs": [
    {
     "data": {
      "text/html": [
       "<div style=\"max-width:1500px;overflow:auto;\">\n",
       "<table border=\"1\" class=\"dataframe\">\n",
       "  <thead>\n",
       "    <tr style=\"text-align: right;\">\n",
       "      <th></th>\n",
       "      <th>review_category</th>\n",
       "      <th>count</th>\n",
       "      <th>percentage</th>\n",
       "    </tr>\n",
       "  </thead>\n",
       "  <tbody>\n",
       "    <tr>\n",
       "      <th>0</th>\n",
       "      <td>positive</td>\n",
       "      <td>703314</td>\n",
       "      <td>80.0</td>\n",
       "    </tr>\n",
       "    <tr>\n",
       "      <th>1</th>\n",
       "      <td>neutral</td>\n",
       "      <td>70825</td>\n",
       "      <td>8.0</td>\n",
       "    </tr>\n",
       "    <tr>\n",
       "      <th>2</th>\n",
       "      <td>negative</td>\n",
       "      <td>108033</td>\n",
       "      <td>12.0</td>\n",
       "    </tr>\n",
       "  </tbody>\n",
       "</table>\n",
       "</div>"
      ]
     },
     "metadata": {},
     "output_type": "display_data"
    }
   ],
   "source": [
    "# Target class distribution\n",
    "review_category_df = clean_review_rating_vote_df.groupby('review_category').count().toPandas()\n",
    "review_category_df['percentage'] = round(review_category_df['count']/review_category_df['count'].sum()*100)\n",
    "review_category_df"
   ]
  },
  {
   "cell_type": "markdown",
   "metadata": {},
   "source": [
    "One of the problems with this dataset is class imbalance. The class distribution is as follows.\n",
    "\n",
    "- Positive - 80%\n",
    "- Negative - 12%\n",
    "- Neutral - 8%\n",
    "\n",
    "Positive class is way more than negative and neutral class. This imbalance negatively affect model performance in correctly predicting examples of rare class. To overcome this, in PySpark, in the case of logistic regression we have a technique called `Class Weighing`, wherein class weight is set to be inversly proportional to its frequency."
   ]
  },
  {
   "cell_type": "markdown",
   "metadata": {},
   "source": [
    "<a id='ilr'></a>\n",
    "### Logistic Regression"
   ]
  },
  {
   "cell_type": "markdown",
   "metadata": {},
   "source": [
    "#### Class Weight Estimation"
   ]
  },
  {
   "cell_type": "code",
   "execution_count": 27,
   "metadata": {},
   "outputs": [
    {
     "data": {
      "text/html": [
       "<style scoped>\n",
       "  .ansiout {\n",
       "    display: block;\n",
       "    unicode-bidi: embed;\n",
       "    white-space: pre-wrap;\n",
       "    word-wrap: break-word;\n",
       "    word-break: break-all;\n",
       "    font-family: \"Source Code Pro\", \"Menlo\", monospace;;\n",
       "    font-size: 13px;\n",
       "    color: #555;\n",
       "    margin-left: 4px;\n",
       "    line-height: 19px;\n",
       "  }\n",
       "</style>\n",
       "<div class=\"ansiout\"></div>"
      ]
     },
     "metadata": {},
     "output_type": "display_data"
    }
   ],
   "source": [
    "# Get the count of review categories\n",
    "train_count = train_set.groupby(\"review_category\").count().toPandas()"
   ]
  },
  {
   "cell_type": "code",
   "execution_count": 28,
   "metadata": {},
   "outputs": [
    {
     "data": {
      "text/html": [
       "<style scoped>\n",
       "  .ansiout {\n",
       "    display: block;\n",
       "    unicode-bidi: embed;\n",
       "    white-space: pre-wrap;\n",
       "    word-wrap: break-word;\n",
       "    word-break: break-all;\n",
       "    font-family: \"Source Code Pro\", \"Menlo\", monospace;;\n",
       "    font-size: 13px;\n",
       "    color: #555;\n",
       "    margin-left: 4px;\n",
       "    line-height: 19px;\n",
       "  }\n",
       "</style>\n",
       "<div class=\"ansiout\"><span class=\"ansired\">Out[</span><span class=\"ansired\">16</span><span class=\"ansired\">]: </span>(0.057336999127036936, 0.37328783369632246, 0.5693751671766407)</div>"
      ]
     },
     "metadata": {},
     "output_type": "display_data"
    }
   ],
   "source": [
    "# Get the class weight based on its frequency\n",
    "pos_count = train_count.iloc[0,1]\n",
    "neu_count = train_count.iloc[1,1]\n",
    "neg_count = train_count.iloc[2,1]\n",
    "\n",
    "inv_pos = 1/pos_count\n",
    "inv_neg = 1/neg_count\n",
    "inv_neu = 1/neu_count\n",
    "\n",
    "pos_weight = 1/(pos_count * (inv_pos +  inv_neg + inv_neu))\n",
    "neg_weight = 1/(neg_count * (inv_pos +  inv_neg + inv_neu))\n",
    "neu_weight = 1/(neu_count * (inv_pos +  inv_neg + inv_neu))\n",
    "# Print class weights\n",
    "(pos_weight, neg_weight, neu_weight)"
   ]
  },
  {
   "cell_type": "code",
   "execution_count": 29,
   "metadata": {},
   "outputs": [
    {
     "data": {
      "text/html": [
       "<style scoped>\n",
       "  .ansiout {\n",
       "    display: block;\n",
       "    unicode-bidi: embed;\n",
       "    white-space: pre-wrap;\n",
       "    word-wrap: break-word;\n",
       "    word-break: break-all;\n",
       "    font-family: \"Source Code Pro\", \"Menlo\", monospace;;\n",
       "    font-size: 13px;\n",
       "    color: #555;\n",
       "    margin-left: 4px;\n",
       "    line-height: 19px;\n",
       "  }\n",
       "</style>\n",
       "<div class=\"ansiout\"></div>"
      ]
     },
     "metadata": {},
     "output_type": "display_data"
    }
   ],
   "source": [
    "# create a classWeight column in trainset\n",
    "train_set=(train_set.withColumn(\"classWeight\", when(train_set.review_category == 'positive', pos_weight)\n",
    "                          .when(train_set.review_category == 'negative', neg_weight)\n",
    "                          .otherwise(neu_weight)))"
   ]
  },
  {
   "cell_type": "code",
   "execution_count": 30,
   "metadata": {},
   "outputs": [
    {
     "data": {
      "text/html": [
       "<style scoped>\n",
       "  .ansiout {\n",
       "    display: block;\n",
       "    unicode-bidi: embed;\n",
       "    white-space: pre-wrap;\n",
       "    word-wrap: break-word;\n",
       "    word-break: break-all;\n",
       "    font-family: \"Source Code Pro\", \"Menlo\", monospace;;\n",
       "    font-size: 13px;\n",
       "    color: #555;\n",
       "    margin-left: 4px;\n",
       "    line-height: 19px;\n",
       "  }\n",
       "</style>\n",
       "<div class=\"ansiout\">Accuracy: 0.735\n",
       "\n",
       "Confusion Metrix:\n",
       "DenseMatrix([[158928.,  13159.,  38792.],\n",
       "             [  1976.,  22764.,   7655.],\n",
       "             [  3520.,   5105.,  12611.]])\n",
       "\n",
       "Confusion Metrix as a Pandas Dataframe:\n",
       "            predicted_pos  predicted_neg  predicted_neu\n",
       "actual_pos       158928.0        13159.0        38792.0\n",
       "actual_neg         1976.0        22764.0         7655.0\n",
       "actual_neu         3520.0         5105.0        12611.0\n",
       "\n",
       "Fraction of positive reviews correctly predicted as positive (recall): 0.754\n",
       "\n",
       "Fraction of negative reviews correctly predicted as negative (recall): 0.703\n",
       "\n",
       "Fraction of neutral reviews correctly predicted as neutral (recall): 0.594\n",
       "</div>"
      ]
     },
     "metadata": {},
     "output_type": "display_data"
    }
   ],
   "source": [
    "# Fit the model and get the predictions for test set\n",
    "from pyspark.ml.classification import LogisticRegression\n",
    "# Instantiate a logistic regression classifier. Deafault parameters are used as parameter tuning did not improve performance.\n",
    "lr = LogisticRegression(labelCol=\"label\", featuresCol=\"features\", weightCol='classWeight')\n",
    "# Fit train set\n",
    "lrModel = lr.fit(train_set)\n",
    "# Save the model\n",
    "lrModel.write().overwrite().save('dbfs:/FileStore/lr_model')\n",
    "# Predict test set\n",
    "lr_predictions = lrModel.transform(test_set)\n",
    "# Print performance metrics of logistic regression\n",
    "print_performance_metrics(lr_predictions)"
   ]
  },
  {
   "cell_type": "markdown",
   "metadata": {},
   "source": [
    "<a id='hp'></a>\n",
    "## ML Scaling: Helpfulness Prediction"
   ]
  },
  {
   "cell_type": "markdown",
   "metadata": {},
   "source": [
    "#### Helpfulness index\n",
    "Absolute number of helpful votes is not suitable for comparison because of varying number of total votes among different reviews. For instance, a review with 15 helpful votes out of 10,000 total votes must be less helpful than a review with 10 helpful votes out of 11 total votes. To deal with this issue, a new helpful index column has been created by dividing helpful votes by total votes."
   ]
  },
  {
   "cell_type": "markdown",
   "metadata": {},
   "source": [
    "#### Subset Review with More Than Five Total Votes\n",
    "Another issue is that the most of the reveiws has 0 total votes. Furthermore, very low total votes also may bias the analysis. For instance if there is only one total vote and if it is voted as helpful, it works out to a helpful index of 1, which may or may not be reliable. To circumvent this problem, only reviews with more than 5 total votes are taken into consideration for training."
   ]
  },
  {
   "cell_type": "code",
   "execution_count": 34,
   "metadata": {},
   "outputs": [
    {
     "data": {
      "text/html": [
       "<style scoped>\n",
       "  .ansiout {\n",
       "    display: block;\n",
       "    unicode-bidi: embed;\n",
       "    white-space: pre-wrap;\n",
       "    word-wrap: break-word;\n",
       "    word-break: break-all;\n",
       "    font-family: \"Source Code Pro\", \"Menlo\", monospace;;\n",
       "    font-size: 13px;\n",
       "    color: #555;\n",
       "    margin-left: 4px;\n",
       "    line-height: 19px;\n",
       "  }\n",
       "</style>\n",
       "<div class=\"ansiout\"></div>"
      ]
     },
     "metadata": {},
     "output_type": "display_data"
    }
   ],
   "source": [
    "doc2vec_helpful_df = doc2vec_df.filter(doc2vec_df[\"total_votes\"] > 5)"
   ]
  },
  {
   "cell_type": "code",
   "execution_count": 35,
   "metadata": {},
   "outputs": [
    {
     "data": {
      "text/html": [
       "<style scoped>\n",
       "  .ansiout {\n",
       "    display: block;\n",
       "    unicode-bidi: embed;\n",
       "    white-space: pre-wrap;\n",
       "    word-wrap: break-word;\n",
       "    word-break: break-all;\n",
       "    font-family: \"Source Code Pro\", \"Menlo\", monospace;;\n",
       "    font-size: 13px;\n",
       "    color: #555;\n",
       "    margin-left: 4px;\n",
       "    line-height: 19px;\n",
       "  }\n",
       "</style>\n",
       "<div class=\"ansiout\"><span class=\"ansired\">Out[</span><span class=\"ansired\">20</span><span class=\"ansired\">]: </span>52295</div>"
      ]
     },
     "metadata": {},
     "output_type": "display_data"
    }
   ],
   "source": [
    "doc2vec_helpful_df = (doc2vec_helpful_df.\n",
    "                    withColumn('helpful_index', doc2vec_helpful_df.helpful_votes/doc2vec_helpful_df.total_votes))\n"
   ]
  },
  {
   "cell_type": "code",
   "execution_count": 36,
   "metadata": {},
   "outputs": [
    {
     "data": {
      "text/html": [
       "<style scoped>\n",
       "  .ansiout {\n",
       "    display: block;\n",
       "    unicode-bidi: embed;\n",
       "    white-space: pre-wrap;\n",
       "    word-wrap: break-word;\n",
       "    word-break: break-all;\n",
       "    font-family: \"Source Code Pro\", \"Menlo\", monospace;;\n",
       "    font-size: 13px;\n",
       "    color: #555;\n",
       "    margin-left: 4px;\n",
       "    line-height: 19px;\n",
       "  }\n",
       "</style>\n",
       "<div class=\"ansiout\"></div>"
      ]
     },
     "metadata": {},
     "output_type": "display_data"
    }
   ],
   "source": [
    "# Split the data into train and test set\n",
    "train_set_h, test_set_h = doc2vec_helpful_df.randomSplit([0.7, 0.3], seed=100)"
   ]
  },
  {
   "cell_type": "markdown",
   "metadata": {},
   "source": [
    "<a id='lrg'></a>\n",
    "### Linear Regression"
   ]
  },
  {
   "cell_type": "code",
   "execution_count": 38,
   "metadata": {},
   "outputs": [
    {
     "data": {
      "text/html": [
       "<style scoped>\n",
       "  .ansiout {\n",
       "    display: block;\n",
       "    unicode-bidi: embed;\n",
       "    white-space: pre-wrap;\n",
       "    word-wrap: break-word;\n",
       "    word-break: break-all;\n",
       "    font-family: \"Source Code Pro\", \"Menlo\", monospace;;\n",
       "    font-size: 13px;\n",
       "    color: #555;\n",
       "    margin-left: 4px;\n",
       "    line-height: 19px;\n",
       "  }\n",
       "</style>\n",
       "<div class=\"ansiout\">RMSE on the test set: 0.254\n",
       "R2 on the test set: 0.175\n",
       "</div>"
      ]
     },
     "metadata": {},
     "output_type": "display_data"
    }
   ],
   "source": [
    "from pyspark.ml.regression import LinearRegression\n",
    "from pyspark.ml.evaluation import RegressionEvaluator\n",
    "\n",
    "# Instantiate a classifier\n",
    "lrg = LinearRegression(labelCol=\"helpful_index\", featuresCol=\"features\", maxIter=1000, regParam=0.5)\n",
    "# Fit training Data\n",
    "lrgModel = lrg.fit(train_set_h)\n",
    "\n",
    "# Save the model\n",
    "lrgModel.write().overwrite().save('dbfs:/FileStore/lrg_model')\n",
    "\n",
    "# Get prediction\n",
    "lrgPredictions = lrgModel.transform(test_set_h)\n",
    "\n",
    "# Print evaluation metrics\n",
    "# Print rmse\n",
    "rmse = RegressionEvaluator(metricName=\"rmse\", labelCol=lrg.getLabelCol(), predictionCol=lrg.getPredictionCol()).evaluate(lrgPredictions)\n",
    "print (\"RMSE on the test set: {:.3f}\".format(rmse))\n",
    "\n",
    "# Print R2\n",
    "r2 = RegressionEvaluator(metricName=\"r2\", labelCol=lrg.getLabelCol(), predictionCol=lrg.getPredictionCol()).evaluate(lrgPredictions)\n",
    "print (\"R2 on the test set: {:.3f}\".format(r2))"
   ]
  },
  {
   "cell_type": "code",
   "execution_count": 39,
   "metadata": {},
   "outputs": [
    {
     "data": {
      "text/html": [
       "<style scoped>\n",
       "  .ansiout {\n",
       "    display: block;\n",
       "    unicode-bidi: embed;\n",
       "    white-space: pre-wrap;\n",
       "    word-wrap: break-word;\n",
       "    word-break: break-all;\n",
       "    font-family: \"Source Code Pro\", \"Menlo\", monospace;;\n",
       "    font-size: 13px;\n",
       "    color: #555;\n",
       "    margin-left: 4px;\n",
       "    line-height: 19px;\n",
       "  }\n",
       "</style>\n",
       "<div class=\"ansiout\">If we just predict the mean of the helpful_index for all reviews, r2 would be: 7.771561172376096e-16\n",
       "</div>"
      ]
     },
     "metadata": {},
     "output_type": "display_data"
    }
   ],
   "source": [
    "# What would be the R2, if we just predict mean of the helpful_index for all reviews.\n",
    "mean_help_df = test_set_h.select('helpful_index')\n",
    "from pyspark.sql.functions import lit\n",
    "mean_ = mean_help_df.groupBy().avg(\"helpful_index\").take(1)[0][0]\n",
    "mean_help_df = mean_help_df.withColumn(\"mean_helpful_index\", lit(mean_))\n",
    "r2_mean = RegressionEvaluator(metricName=\"r2\", labelCol='helpful_index', predictionCol='mean_helpful_index').evaluate(mean_help_df)\n",
    "print(\"If we just predict the mean of the helpful_index for all reviews, r2 would be: {}\".format(r2_mean))"
   ]
  },
  {
   "cell_type": "markdown",
   "metadata": {},
   "source": [
    "<a id='nd'></a>\n",
    "## Making Predictions on New Data\n",
    "In this section, I have predicted the star rating and helpful index of a few Amazon reviews that were not part of the train or test set used in this study to get an idea as to how this model perform on new data. These are very recent reviews on Amazon website."
   ]
  },
  {
   "cell_type": "markdown",
   "metadata": {},
   "source": [
    "#### Rating Prediction"
   ]
  },
  {
   "cell_type": "code",
   "execution_count": 42,
   "metadata": {},
   "outputs": [
    {
     "data": {
      "text/html": [
       "<style scoped>\n",
       "  .ansiout {\n",
       "    display: block;\n",
       "    unicode-bidi: embed;\n",
       "    white-space: pre-wrap;\n",
       "    word-wrap: break-word;\n",
       "    word-break: break-all;\n",
       "    font-family: \"Source Code Pro\", \"Menlo\", monospace;;\n",
       "    font-size: 13px;\n",
       "    color: #555;\n",
       "    margin-left: 4px;\n",
       "    line-height: 19px;\n",
       "  }\n",
       "</style>\n",
       "<div class=\"ansiout\"></div>"
      ]
     },
     "metadata": {},
     "output_type": "display_data"
    }
   ],
   "source": [
    "# List of new reviews taken from Amazon website\n",
    "new_reviews = [\"Lately I've been having trouble with my cell phone so I decided to give a different company a try. I love this phone! It has a decent battery life, takes great pictures, has quite a bit of volume, I had to turn it down. I selected the one day shipping through Amazon Prime, and it arrived early the following morning 100% charged. All I had to do was move my sim cards over and it was ready to go. It found my provider easily (wind). The only thing that made me laugh is the beautiful rose gold it comes in, with a black case to cover it! I am glad I tried this company, they are doing it right!\", \n",
    "               \"This bag is everything! I was able to pack three pairs of pants of jeans, two dresses, four shirts, night clothes, underwear, an extra pair of shoes and toiletries with some room to spare! Definitely worth the money.\", \n",
    "               \"I got this as a Christmas gift and use it almost daily! From making soups, to homemade nut butters, hummus, veggie burgers... The possibilities are endless! The blade works wonderfully and cleaning the appliance is a breeze. Amazing product for the price!!!\",\n",
    "               \"I love this sooo much it is perfect for making tortillas and pancakes. It heats up quickly and it is super easy to clean. I love that you can actually wash the whole thing. The heat is distributed evenly as well. One of my favorite in the kitchen!\",\n",
    "               \"My 13 year old son saved up birthday and Christmas money for this Microscope to replace a lower powered one. He is extremely happy with the magnification level and clarity. Also he is happy with how the adjustment knobs move the slides around with fine control. He made a stop-motion animation to show the moving parts of the microscope's key features:\",\n",
    "               \n",
    "               \"I purchased this microscope a year ago and have used it probably a total of 5 hrs. It worked well except that the fine focus control loses traction and therefore isn't very effective. Recently the LED light started intermittently turning off and on and then has now completely stopped working. The company is taking it back for repair but I have to pay the shipping costs.\",\n",
    "               \"The ceramic is nice. Really upset though because the plug in has to be wiggled and pushed in just perfectly for it to work \",\n",
    "               \"This works well as a pressure cooker but is not as effective in the slow cooker mode. I've increased the time and temperature using several tried and true recipes (used in traditional slow cooker) but have been disappointed in the results.\",\n",
    "               \"We like the looks of the unit. It fits perfectly in our built-in wet bar. It cools the wine but you cannot put champagne bottles in it. We do not like the noise nor the temperature zones because they are never correct. Otherwise, it is okay.\",\n",
    "               \"Tv is ok. Not perfect but ok. For some reason I got tv without remote, power cord and screws for a stand which for i have to wait now around a week. So my tv is standing there without even trying it. Hisense support refused to send this overnight so therefore 3 stars. I'm disappointed.\",\n",
    "              \n",
    "              \n",
    "              \"On first use, the inside strap tore. Not even sure how it happened - bag was not overpacked or used roughly. The strap attaches an inner compartment to the luggage. Very disappointed. Poor quality and expected more. Wary of buying AmazonBasics branded items now!\",\n",
    "               \"My 30 year old Black and Decker food processor was too small for some of my recipes. Based on the reviews this seemed to fit the bill. Major disappointment. First it was aggravating because when it is used full it will overflow through the middle area....mess. Second, after only 1 year and ~20 uses the on/off switch will not turn. Had to pull out my trusty 30 year old Black and Decker to the rescue in the middle of a recipe.\",\n",
    "               \"Absolutely awful! I had to send my first one back because it cracked and I used my replacement one for the first time and it broke while slicing a potato. Not only did it break while cutting a potato, that was sliced into 4 by the way, it also had the piece fly off the machine and cut my leg in the process. Save your money and buy something that is made with quality materials.\",\n",
    "               \"Horrible! Became NOT Non-stick after first use. It is not easy to clean and whatever sticks to it stays. Bought a better one at Biglots for cheaper. Waste of money\",\n",
    "               \"Very disappointed with this microscope! Does not do what it promised and very hard to get into focus what you're trying to see, almost like its not level. Once you finally do get it into focus it doesn't stay in focus. Unfortunately the time period for being able to return it closed before I even had the chance to use it.\"]\n",
    "new_reviews = [{'review_body':review} for review in new_reviews]\n",
    "import json\n",
    "new_reviews = [json.dumps(new_reviews)]\n",
    "# Convert new reviews to pyspark dataframe\n",
    "new_reviews_df = sc.parallelize(new_reviews)\n",
    "new_reviews_df = spark.read.json(new_reviews_df)\n",
    "# new_reviews_df.limit(2).toPandas()"
   ]
  },
  {
   "cell_type": "code",
   "execution_count": 43,
   "metadata": {},
   "outputs": [
    {
     "data": {
      "text/html": [
       "<style scoped>\n",
       "  .ansiout {\n",
       "    display: block;\n",
       "    unicode-bidi: embed;\n",
       "    white-space: pre-wrap;\n",
       "    word-wrap: break-word;\n",
       "    word-break: break-all;\n",
       "    font-family: \"Source Code Pro\", \"Menlo\", monospace;;\n",
       "    font-size: 13px;\n",
       "    color: #555;\n",
       "    margin-left: 4px;\n",
       "    line-height: 19px;\n",
       "  }\n",
       "</style>\n",
       "<div class=\"ansiout\"></div>"
      ]
     },
     "metadata": {},
     "output_type": "display_data"
    }
   ],
   "source": [
    "# Extract word2vec for new reviews\n",
    "from pyspark.ml.feature import Word2Vec\n",
    "from pyspark.ml import Pipeline\n",
    "from pyspark.ml.feature import Tokenizer\n",
    "# Tokenize user input\n",
    "tokenizer_usr_input = Tokenizer(inputCol=\"review_body\", outputCol=\"tokens\")\n",
    "# Extract doc2vec size of 300\n",
    "word2vec_usr_input = Word2Vec(vectorSize=300, minCount=0, inputCol=\"tokens\", outputCol=\"features\")\n",
    "doc2vec_pipeline_usr_input = Pipeline(stages=[tokenizer, word2vec])\n",
    "doc2vec_model_usr_input = doc2vec_pipeline.fit(new_reviews_df)\n",
    "doc2vec_new_reviews_df = doc2vec_model.transform(new_reviews_df)\n",
    "# doc2vec_new_reviews_df.limit(2).toPandas()"
   ]
  },
  {
   "cell_type": "markdown",
   "metadata": {},
   "source": [
    "#### Rating Prediction on New Review"
   ]
  },
  {
   "cell_type": "code",
   "execution_count": 45,
   "metadata": {},
   "outputs": [
    {
     "data": {
      "text/html": [
       "<div style=\"max-width:1500px;overflow:auto;\">\n",
       "<table border=\"1\" class=\"dataframe\">\n",
       "  <thead>\n",
       "    <tr style=\"text-align: right;\">\n",
       "      <th></th>\n",
       "      <th>Review Text</th>\n",
       "      <th>Predicted Rating</th>\n",
       "      <th>Actual Rating</th>\n",
       "    </tr>\n",
       "  </thead>\n",
       "  <tbody>\n",
       "    <tr>\n",
       "      <th>0</th>\n",
       "      <td>Lately I've been having trouble with my cell phone so I decided to give a different company a try. I love this phone! It has a decent battery life, takes great pictures, has quite a bit of volume, I had to turn it down. I selected the one day shipping through Amazon Prime, and it arrived early the following morning 100% charged. All I had to do was move my sim cards over and it was ready to go. It found my provider easily (wind). The only thing that made me laugh is the beautiful rose gold it comes in, with a black case to cover it! I am glad I tried this company, they are doing it right!</td>\n",
       "      <td>Positive</td>\n",
       "      <td>positive</td>\n",
       "    </tr>\n",
       "    <tr>\n",
       "      <th>1</th>\n",
       "      <td>This bag is everything! I was able to pack three pairs of pants of jeans, two dresses, four shirts, night clothes, underwear, an extra pair of shoes and toiletries with some room to spare! Definitely worth the money.</td>\n",
       "      <td>Positive</td>\n",
       "      <td>positive</td>\n",
       "    </tr>\n",
       "    <tr>\n",
       "      <th>2</th>\n",
       "      <td>I got this as a Christmas gift and use it almost daily! From making soups, to homemade nut butters, hummus, veggie burgers... The possibilities are endless! The blade works wonderfully and cleaning the appliance is a breeze. Amazing product for the price!!!</td>\n",
       "      <td>Positive</td>\n",
       "      <td>positive</td>\n",
       "    </tr>\n",
       "    <tr>\n",
       "      <th>3</th>\n",
       "      <td>I love this sooo much it is perfect for making tortillas and pancakes. It heats up quickly and it is super easy to clean. I love that you can actually wash the whole thing. The heat is distributed evenly as well. One of my favorite in the kitchen!</td>\n",
       "      <td>Positive</td>\n",
       "      <td>positive</td>\n",
       "    </tr>\n",
       "    <tr>\n",
       "      <th>4</th>\n",
       "      <td>My 13 year old son saved up birthday and Christmas money for this Microscope to replace a lower powered one. He is extremely happy with the magnification level and clarity. Also he is happy with how the adjustment knobs move the slides around with fine control. He made a stop-motion animation to show the moving parts of the microscope's key features:</td>\n",
       "      <td>Positive</td>\n",
       "      <td>positive</td>\n",
       "    </tr>\n",
       "    <tr>\n",
       "      <th>5</th>\n",
       "      <td>I purchased this microscope a year ago and have used it probably a total of 5 hrs. It worked well except that the fine focus control loses traction and therefore isn't very effective. Recently the LED light started intermittently turning off and on and then has now completely stopped working. The company is taking it back for repair but I have to pay the shipping costs.</td>\n",
       "      <td>Negative</td>\n",
       "      <td>neutral</td>\n",
       "    </tr>\n",
       "    <tr>\n",
       "      <th>6</th>\n",
       "      <td>The ceramic is nice. Really upset though because the plug in has to be wiggled and pushed in just perfectly for it to work</td>\n",
       "      <td>Neutral</td>\n",
       "      <td>neutral</td>\n",
       "    </tr>\n",
       "    <tr>\n",
       "      <th>7</th>\n",
       "      <td>This works well as a pressure cooker but is not as effective in the slow cooker mode. I've increased the time and temperature using several tried and true recipes (used in traditional slow cooker) but have been disappointed in the results.</td>\n",
       "      <td>Neutral</td>\n",
       "      <td>neutral</td>\n",
       "    </tr>\n",
       "    <tr>\n",
       "      <th>8</th>\n",
       "      <td>We like the looks of the unit. It fits perfectly in our built-in wet bar. It cools the wine but you cannot put champagne bottles in it. We do not like the noise nor the temperature zones because they are never correct. Otherwise, it is okay.</td>\n",
       "      <td>Neutral</td>\n",
       "      <td>neutral</td>\n",
       "    </tr>\n",
       "    <tr>\n",
       "      <th>9</th>\n",
       "      <td>Tv is ok. Not perfect but ok. For some reason I got tv without remote, power cord and screws for a stand which for i have to wait now around a week. So my tv is standing there without even trying it. Hisense support refused to send this overnight so therefore 3 stars. I'm disappointed.</td>\n",
       "      <td>Neutral</td>\n",
       "      <td>neutral</td>\n",
       "    </tr>\n",
       "    <tr>\n",
       "      <th>10</th>\n",
       "      <td>On first use, the inside strap tore. Not even sure how it happened - bag was not overpacked or used roughly. The strap attaches an inner compartment to the luggage. Very disappointed. Poor quality and expected more. Wary of buying AmazonBasics branded items now!</td>\n",
       "      <td>Negative</td>\n",
       "      <td>negative</td>\n",
       "    </tr>\n",
       "    <tr>\n",
       "      <th>11</th>\n",
       "      <td>My 30 year old Black and Decker food processor was too small for some of my recipes. Based on the reviews this seemed to fit the bill. Major disappointment. First it was aggravating because when it is used full it will overflow through the middle area....mess. Second, after only 1 year and ~20 uses the on/off switch will not turn. Had to pull out my trusty 30 year old Black and Decker to the rescue in the middle of a recipe.</td>\n",
       "      <td>Negative</td>\n",
       "      <td>negative</td>\n",
       "    </tr>\n",
       "    <tr>\n",
       "      <th>12</th>\n",
       "      <td>Absolutely awful! I had to send my first one back because it cracked and I used my replacement one for the first time and it broke while slicing a potato. Not only did it break while cutting a potato, that was sliced into 4 by the way, it also had the piece fly off the machine and cut my leg in the process. Save your money and buy something that is made with quality materials.</td>\n",
       "      <td>Negative</td>\n",
       "      <td>negative</td>\n",
       "    </tr>\n",
       "    <tr>\n",
       "      <th>13</th>\n",
       "      <td>Horrible! Became NOT Non-stick after first use. It is not easy to clean and whatever sticks to it stays. Bought a better one at Biglots for cheaper. Waste of money</td>\n",
       "      <td>Negative</td>\n",
       "      <td>negative</td>\n",
       "    </tr>\n",
       "    <tr>\n",
       "      <th>14</th>\n",
       "      <td>Very disappointed with this microscope! Does not do what it promised and very hard to get into focus what you're trying to see, almost like its not level. Once you finally do get it into focus it doesn't stay in focus. Unfortunately the time period for being able to return it closed before I even had the chance to use it.</td>\n",
       "      <td>Negative</td>\n",
       "      <td>negative</td>\n",
       "    </tr>\n",
       "  </tbody>\n",
       "</table>\n",
       "</div>"
      ]
     },
     "metadata": {},
     "output_type": "display_data"
    }
   ],
   "source": [
    "pd.set_option('display.max_colwidth', -1)\n",
    "# Make predictions for new reviews\n",
    "prediction_df_lr = lrModel.transform(doc2vec_new_reviews_df).toPandas()\n",
    "# A function to convert numeric label to string label\n",
    "def convert_label(x):\n",
    "  if x == 0:\n",
    "    return \"Positive\"\n",
    "  if x == 1:\n",
    "    return \"Negative\"\n",
    "  return \"Neutral\"\n",
    "    \n",
    "prediction_df_lr['prediction'] = prediction_df_lr['prediction'].apply(convert_label)\n",
    "prediction_df_lr.columns = ['Review Text', 'tokens', 'features', 'rawPrediction', 'probability', 'Predicted Rating']\n",
    "prediction_df_lr['Actual Rating'] = ['positive'] * 5 + ['neutral'] * 5 + ['negative'] * 5 \n",
    "prediction_df_lr[['Review Text', 'Predicted Rating', 'Actual Rating']]"
   ]
  },
  {
   "cell_type": "markdown",
   "metadata": {},
   "source": [
    "#### Performance of the model on Amazon reviews that were not part of the Amazon review dataset\n",
    "I have predicted the rating of five each of positive, neutral and negative reviews taken directly from Amazon website. Out of this five positive (100%), four neutral (80%) and five negative (100%) reviews were predicted accurately by the model I trained."
   ]
  },
  {
   "cell_type": "markdown",
   "metadata": {},
   "source": [
    "#### Helpful Index Prediction on New Reviews"
   ]
  },
  {
   "cell_type": "code",
   "execution_count": 48,
   "metadata": {},
   "outputs": [
    {
     "data": {
      "text/html": [
       "<div style=\"max-width:1500px;overflow:auto;\">\n",
       "<table border=\"1\" class=\"dataframe\">\n",
       "  <thead>\n",
       "    <tr style=\"text-align: right;\">\n",
       "      <th></th>\n",
       "      <th>Review Text</th>\n",
       "      <th>Predicted Helpful Index</th>\n",
       "    </tr>\n",
       "  </thead>\n",
       "  <tbody>\n",
       "    <tr>\n",
       "      <th>0</th>\n",
       "      <td>Lately I've been having trouble with my cell phone so I decided to give a different company a try. I love this phone! It has a decent battery life, takes great pictures, has quite a bit of volume, I had to turn it down. I selected the one day shipping through Amazon Prime, and it arrived early the following morning 100% charged. All I had to do was move my sim cards over and it was ready to go. It found my provider easily (wind). The only thing that made me laugh is the beautiful rose gold it comes in, with a black case to cover it! I am glad I tried this company, they are doing it right!</td>\n",
       "      <td>0.75</td>\n",
       "    </tr>\n",
       "    <tr>\n",
       "      <th>1</th>\n",
       "      <td>This bag is everything! I was able to pack three pairs of pants of jeans, two dresses, four shirts, night clothes, underwear, an extra pair of shoes and toiletries with some room to spare! Definitely worth the money.</td>\n",
       "      <td>0.90</td>\n",
       "    </tr>\n",
       "    <tr>\n",
       "      <th>2</th>\n",
       "      <td>I got this as a Christmas gift and use it almost daily! From making soups, to homemade nut butters, hummus, veggie burgers... The possibilities are endless! The blade works wonderfully and cleaning the appliance is a breeze. Amazing product for the price!!!</td>\n",
       "      <td>0.82</td>\n",
       "    </tr>\n",
       "    <tr>\n",
       "      <th>3</th>\n",
       "      <td>I love this sooo much it is perfect for making tortillas and pancakes. It heats up quickly and it is super easy to clean. I love that you can actually wash the whole thing. The heat is distributed evenly as well. One of my favorite in the kitchen!</td>\n",
       "      <td>0.86</td>\n",
       "    </tr>\n",
       "    <tr>\n",
       "      <th>4</th>\n",
       "      <td>My 13 year old son saved up birthday and Christmas money for this Microscope to replace a lower powered one. He is extremely happy with the magnification level and clarity. Also he is happy with how the adjustment knobs move the slides around with fine control. He made a stop-motion animation to show the moving parts of the microscope's key features:</td>\n",
       "      <td>0.85</td>\n",
       "    </tr>\n",
       "    <tr>\n",
       "      <th>5</th>\n",
       "      <td>I purchased this microscope a year ago and have used it probably a total of 5 hrs. It worked well except that the fine focus control loses traction and therefore isn't very effective. Recently the LED light started intermittently turning off and on and then has now completely stopped working. The company is taking it back for repair but I have to pay the shipping costs.</td>\n",
       "      <td>0.77</td>\n",
       "    </tr>\n",
       "    <tr>\n",
       "      <th>6</th>\n",
       "      <td>The ceramic is nice. Really upset though because the plug in has to be wiggled and pushed in just perfectly for it to work</td>\n",
       "      <td>0.81</td>\n",
       "    </tr>\n",
       "    <tr>\n",
       "      <th>7</th>\n",
       "      <td>This works well as a pressure cooker but is not as effective in the slow cooker mode. I've increased the time and temperature using several tried and true recipes (used in traditional slow cooker) but have been disappointed in the results.</td>\n",
       "      <td>0.79</td>\n",
       "    </tr>\n",
       "    <tr>\n",
       "      <th>8</th>\n",
       "      <td>We like the looks of the unit. It fits perfectly in our built-in wet bar. It cools the wine but you cannot put champagne bottles in it. We do not like the noise nor the temperature zones because they are never correct. Otherwise, it is okay.</td>\n",
       "      <td>0.80</td>\n",
       "    </tr>\n",
       "    <tr>\n",
       "      <th>9</th>\n",
       "      <td>Tv is ok. Not perfect but ok. For some reason I got tv without remote, power cord and screws for a stand which for i have to wait now around a week. So my tv is standing there without even trying it. Hisense support refused to send this overnight so therefore 3 stars. I'm disappointed.</td>\n",
       "      <td>0.73</td>\n",
       "    </tr>\n",
       "    <tr>\n",
       "      <th>10</th>\n",
       "      <td>On first use, the inside strap tore. Not even sure how it happened - bag was not overpacked or used roughly. The strap attaches an inner compartment to the luggage. Very disappointed. Poor quality and expected more. Wary of buying AmazonBasics branded items now!</td>\n",
       "      <td>0.76</td>\n",
       "    </tr>\n",
       "    <tr>\n",
       "      <th>11</th>\n",
       "      <td>My 30 year old Black and Decker food processor was too small for some of my recipes. Based on the reviews this seemed to fit the bill. Major disappointment. First it was aggravating because when it is used full it will overflow through the middle area....mess. Second, after only 1 year and ~20 uses the on/off switch will not turn. Had to pull out my trusty 30 year old Black and Decker to the rescue in the middle of a recipe.</td>\n",
       "      <td>0.79</td>\n",
       "    </tr>\n",
       "    <tr>\n",
       "      <th>12</th>\n",
       "      <td>Absolutely awful! I had to send my first one back because it cracked and I used my replacement one for the first time and it broke while slicing a potato. Not only did it break while cutting a potato, that was sliced into 4 by the way, it also had the piece fly off the machine and cut my leg in the process. Save your money and buy something that is made with quality materials.</td>\n",
       "      <td>0.76</td>\n",
       "    </tr>\n",
       "    <tr>\n",
       "      <th>13</th>\n",
       "      <td>Horrible! Became NOT Non-stick after first use. It is not easy to clean and whatever sticks to it stays. Bought a better one at Biglots for cheaper. Waste of money</td>\n",
       "      <td>0.64</td>\n",
       "    </tr>\n",
       "    <tr>\n",
       "      <th>14</th>\n",
       "      <td>Very disappointed with this microscope! Does not do what it promised and very hard to get into focus what you're trying to see, almost like its not level. Once you finally do get it into focus it doesn't stay in focus. Unfortunately the time period for being able to return it closed before I even had the chance to use it.</td>\n",
       "      <td>0.65</td>\n",
       "    </tr>\n",
       "  </tbody>\n",
       "</table>\n",
       "</div>"
      ]
     },
     "metadata": {},
     "output_type": "display_data"
    }
   ],
   "source": [
    "# Linear regression\n",
    "# Make predictions for new reviews\n",
    "prediction_df_lrg = lrgModel.transform(doc2vec_new_reviews_df).toPandas()\n",
    "prediction_df_lrg.columns = ['Review Text', 'tokens', 'features', 'Predicted Helpful Index']\n",
    "prediction_df_lrg['Predicted Helpful Index'] = round(prediction_df_lrg['Predicted Helpful Index'], 2)\n",
    "prediction_df_lrg[['Review Text', 'Predicted Helpful Index']]"
   ]
  },
  {
   "cell_type": "markdown",
   "metadata": {},
   "source": [
    "<a id='cl'></a>\n",
    "## Conclusion\n",
    "\n",
    "I have used Logistic Regression to predict star rating of Amazon reviews. The performance of this model is as follows\n",
    "\n",
    "- Accuracy: 73.5%\n",
    "- Positive class recall: 75.4%\n",
    "- Negative class recall: 70.3%\n",
    "- Neutral class recall: 59.4%\n",
    "\n",
    "I have used Linear regression for predicting helpfulness. It produced an R2 of 0.175; the model was able to explain 17.5% of the variance present in helpful  index (helpful votes/total votes). Although this performance is very poor, it should be noted that if we just predicted the mean of the helpful_index (zero information predictor), it would have negative R2."
   ]
  },
  {
   "cell_type": "code",
   "execution_count": 50,
   "metadata": {},
   "outputs": [
    {
     "data": {
      "text/html": [
       "<style scoped>\n",
       "  .ansiout {\n",
       "    display: block;\n",
       "    unicode-bidi: embed;\n",
       "    white-space: pre-wrap;\n",
       "    word-wrap: break-word;\n",
       "    word-break: break-all;\n",
       "    font-family: \"Source Code Pro\", \"Menlo\", monospace;;\n",
       "    font-size: 13px;\n",
       "    color: #555;\n",
       "    margin-left: 4px;\n",
       "    line-height: 19px;\n",
       "  }\n",
       "</style>\n",
       "<div class=\"ansiout\">It took 73.4 minutes to run this notebook.\n",
       "</div>"
      ]
     },
     "metadata": {},
     "output_type": "display_data"
    }
   ],
   "source": [
    "end_time = time.time()\n",
    "print('It took {:.1f} minutes to run this notebook.'.format((end_time - start_time)/60))"
   ]
  },
  {
   "cell_type": "code",
   "execution_count": 51,
   "metadata": {},
   "outputs": [],
   "source": []
  }
 ],
 "metadata": {
  "kernelspec": {
   "display_name": "Python 3",
   "language": "python",
   "name": "python3"
  },
  "language_info": {
   "codemirror_mode": {
    "name": "ipython",
    "version": 3
   },
   "file_extension": ".py",
   "mimetype": "text/x-python",
   "name": "python",
   "nbconvert_exporter": "python",
   "pygments_lexer": "ipython3",
   "version": "3.6.8"
  },
  "name": "ml_model_scaling",
  "notebookId": 701257174266223
 },
 "nbformat": 4,
 "nbformat_minor": 1
}
